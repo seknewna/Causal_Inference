{
  "cells": [
    {
      "cell_type": "markdown",
      "metadata": {
        "id": "PghAqz6B6dQz"
      },
      "source": [
        "# Tutorial 1: Introduction to Deep Learning"
      ]
    },
    {
      "cell_type": "code",
      "execution_count": null,
      "metadata": {
        "id": "kulgJH6N59KZ"
      },
      "outputs": [],
      "source": [
        "import torch\n",
        "import matplotlib.pyplot as plt\n",
        "import numpy as np"
      ]
    },
    {
      "cell_type": "markdown",
      "metadata": {
        "id": "8bSriny4-N1p"
      },
      "source": [
        "## Part 1: PyTorch Introduction"
      ]
    },
    {
      "cell_type": "code",
      "execution_count": null,
      "metadata": {
        "id": "qXeoRvdF-My3"
      },
      "outputs": [],
      "source": [
        "# Creating tensors in PyTorch\n",
        "tensor_a = torch.tensor([1, 2, 3])\n",
        "tensor_b = torch.tensor([[1, 2, 3], [4, 5, 6]])\n",
        "\n",
        "print(\"Tensor a:\", tensor_a)\n",
        "print(\"Tensor a shape:\", tensor_a.shape)\n",
        "print('\\n')\n",
        "print(\"Tensor b:\", tensor_b)\n",
        "print(\"Tensor b shape:\", tensor_b.shape)"
      ]
    },
    {
      "cell_type": "code",
      "execution_count": null,
      "metadata": {
        "id": "a5rQHhqN06Qi"
      },
      "outputs": [],
      "source": [
        "# Basic operations\n",
        "\n",
        "sum_tensors = tensor_a + tensor_b[0]\n",
        "product_tensors = tensor_a * 2\n",
        "\n",
        "print(\"Sum of tensors:\", sum_tensors)\n",
        "print(\"Tensor multiplied by 2:\", product_tensors)"
      ]
    },
    {
      "cell_type": "code",
      "execution_count": null,
      "metadata": {
        "id": "O8tbrcl-HKNV"
      },
      "outputs": [],
      "source": [
        "# Reshaping tensors\n",
        "\n",
        "reshaped_tensor = tensor_b.view(3, 2)   # Equivalent to tensor_b.reshape(3,2)\n",
        "print(\"Reshaped tensor b:\", reshaped_tensor)\n",
        "print(\"Reshaped tensor b shape:\", reshaped_tensor.shape)"
      ]
    },
    {
      "cell_type": "code",
      "execution_count": null,
      "metadata": {
        "id": "zDAVMFhsHTft"
      },
      "outputs": [],
      "source": [
        "# Concatenating tensors\n",
        "\n",
        "print(\"Tensor a shape:\", tensor_a.shape)\n",
        "print(\"Tensor b shape:\", tensor_b.shape)\n",
        "\n",
        "print(50*'-')\n",
        "\n",
        "try:\n",
        "  torch.cat([tensor_a, tensor_b])\n",
        "except Exception as e:\n",
        "  print(e)\n",
        "\n",
        "print(50*'-')\n",
        "\n",
        "tensor_cat = torch.cat([tensor_a.unsqueeze(0), tensor_b], dim=0)\n",
        "print(\"Tensor cat shape:\", tensor_cat.shape)"
      ]
    },
    {
      "cell_type": "markdown",
      "metadata": {
        "id": "kvHA86fnINdD"
      },
      "source": [
        "### Automatic differentiation"
      ]
    },
    {
      "cell_type": "code",
      "execution_count": null,
      "metadata": {
        "id": "rt27c8ZWINNF"
      },
      "outputs": [],
      "source": [
        "# Autograd: Automatic Differentiation\n",
        "x = torch.tensor(2.0, requires_grad=True)\n",
        "def y_func(x):\n",
        "  return x**2 + 3*x + 1 + torch.sin(x**2)\n",
        "\n",
        "y = y_func(x)\n",
        "\n",
        "print('Gradient before backward call:', x.grad)\n",
        "print(50*'-')\n",
        "\n",
        "# Compute gradients\n",
        "y.backward()\n",
        "\n",
        "# Gradient of y with respect to x\n",
        "print(\"dy/dx at x = 2:\", x.grad)\n"
      ]
    },
    {
      "cell_type": "code",
      "execution_count": null,
      "metadata": {
        "id": "z73yEqqO13B3"
      },
      "outputs": [],
      "source": [
        "# Generating a range of values\n",
        "x = torch.linspace(-3, 3, steps=100, requires_grad=True)\n",
        "\n",
        "# Applying the function\n",
        "y = y_func(x)\n",
        "\n",
        "# Prepare to store gradients\n",
        "grads = torch.zeros_like(x)\n",
        "\n",
        "# Calculate gradients for each element in x\n",
        "for i in range(x.size(0)):\n",
        "\n",
        "    # Calculate the function and backpropagate on each element\n",
        "    y[i].backward(retain_graph=True)\n",
        "\n",
        "    # Store the computed gradient\n",
        "    grads[i] = x.grad[i]\n",
        "\n",
        "# Plotting\n",
        "plt.plot(x.detach().numpy(), y.detach().numpy(), label='f(x)')\n",
        "plt.plot(x.detach().numpy(), grads.numpy(), label='df/dx')\n",
        "plt.xlabel('x')\n",
        "plt.ylabel('y / df/dx')\n",
        "plt.legend()\n",
        "plt.grid()\n",
        "plt.title('Function and its Gradient')\n",
        "plt.show()"
      ]
    },
    {
      "cell_type": "code",
      "execution_count": null,
      "metadata": {
        "id": "FvWpT567INHK"
      },
      "outputs": [],
      "source": [
        "x = torch.tensor([0.2,0.8,0.9,0.3,0.2])                     # input tensor\n",
        "y = torch.tensor([0,1,1,0,0]).to(dtype=torch.float32)       # expected output\n",
        "\n",
        "# Weights and biases b + w^T x\n",
        "w = torch.randn(5, 5, requires_grad=True)\n",
        "b = torch.randn(5, requires_grad=True)\n",
        "\n",
        "learning_rate = 0.1\n",
        "\n",
        "for _ in range(5):\n",
        "\n",
        "  z = torch.matmul(x, w)+b\n",
        "  loss = torch.norm(y-z)\n",
        "  loss.backward()\n",
        "\n",
        "  with torch.no_grad():\n",
        "    w -= learning_rate * w.grad\n",
        "    b -= learning_rate * b.grad\n",
        "\n",
        "    # Zero gradients after updating\n",
        "    w.grad.zero_()\n",
        "    b.grad.zero_()\n",
        "\n",
        "torch.matmul(x, w) +b"
      ]
    },
    {
      "cell_type": "markdown",
      "metadata": {
        "id": "vTn5xkkz8tvX"
      },
      "source": [
        "## Part 2: Building a neural network\n",
        "#### Source: https://medium.com/@mn05052002/building-a-simple-mlp-from-scratch-using-pytorch-7d50ca66512b"
      ]
    },
    {
      "cell_type": "markdown",
      "metadata": {
        "id": "wjdbAd_Y8tvX"
      },
      "source": [
        "#### Importing libraries"
      ]
    },
    {
      "cell_type": "code",
      "execution_count": null,
      "metadata": {
        "id": "BBWSRSPk8tvX"
      },
      "outputs": [],
      "source": [
        "from sklearn.datasets import make_moons\n",
        "from sklearn.model_selection import train_test_split\n",
        "from sklearn.preprocessing import StandardScaler"
      ]
    },
    {
      "cell_type": "markdown",
      "metadata": {
        "id": "a-Eez7ac8tvX"
      },
      "source": [
        "#### Generate the dataset"
      ]
    },
    {
      "cell_type": "code",
      "execution_count": null,
      "metadata": {
        "id": "XJc1VNWi8tvY"
      },
      "outputs": [],
      "source": [
        "X, y = make_moons(n_samples=1000, noise=0.2, random_state=42)\n",
        "\n",
        "# TODO: Split the dataset into 80% training and 20% testing sets\n",
        "# hint: Use the train_test_split function from sklearn.model_selection\n",
        "X_train, X_test, y_train, y_test = ...\n",
        "\n",
        "# Standardize the data\n",
        "scaler = StandardScaler()\n",
        "X_train = scaler.fit_transform(X_train)\n",
        "X_test = scaler.transform(X_test)\n",
        "\n",
        "# Convert to PyTorch tensors\n",
        "X_train = torch.tensor(X_train, dtype=torch.float32)\n",
        "y_train = torch.tensor(y_train, dtype=torch.float32).reshape(-1, 1)\n",
        "X_test = torch.tensor(X_test, dtype=torch.float32)\n",
        "y_test = torch.tensor(y_test, dtype=torch.float32).reshape(-1, 1)"
      ]
    },
    {
      "cell_type": "markdown",
      "metadata": {
        "id": "VK9cB_n98tvY"
      },
      "source": [
        "#### Visualize the dataset"
      ]
    },
    {
      "cell_type": "code",
      "execution_count": null,
      "metadata": {
        "id": "vSbrP_ag8tvY"
      },
      "outputs": [],
      "source": [
        "plt.scatter(X[:,0], X[:,1], c=y)"
      ]
    },
    {
      "cell_type": "markdown",
      "metadata": {
        "id": "-Lw-W9kE8tvY"
      },
      "source": [
        "#### Create the model\n",
        "The model should be a simple feedforward neural network with one hidden layer, that computes\n",
        "$\\begin{align}\n",
        "y = \\sigma(\\sigma(x W_1 + b_1)W_2 + b_2)\n",
        "\\end{align}\n",
        "$\n",
        "where $\\sigma$ is the sigmoid activation function, $W_1$ and $W_2$ are the weights of the first and second layer respectively, and $b_1$ and $b_2$ are the biases of the first and second layer respectively."
      ]
    },
    {
      "cell_type": "code",
      "execution_count": null,
      "metadata": {
        "id": "vRHd8laJ8tvY"
      },
      "outputs": [],
      "source": [
        "class SimpleMLP(torch.nn.Module):\n",
        "    def __init__(self, input_size, hidden_size, output_size):\n",
        "        super(SimpleMLP, self).__init__()\n",
        "        self.W1 = torch.nn.Parameter(torch.randn(input_size, hidden_size))\n",
        "        self.b1 = torch.nn.Parameter(torch.randn(1, hidden_size))\n",
        "        self.W2 = torch.nn.Parameter(torch.randn(hidden_size, output_size))\n",
        "        self.b2 = torch.nn.Parameter(torch.randn(1, output_size))\n",
        "\n",
        "    def forward(self, X):\n",
        "        # TODO: Implement the forward pass\n",
        "        self.z = ...\n",
        "        return self.z"
      ]
    },
    {
      "cell_type": "code",
      "execution_count": null,
      "metadata": {
        "id": "lhg53fFE8tvY"
      },
      "outputs": [],
      "source": [
        "def train(model, X, y, epochs=1000, lr=0.01):\n",
        "        losses = []\n",
        "\n",
        "        # Initialize the optimizer\n",
        "        optimizer = torch.optim.SGD(model.parameters(), lr=lr)\n",
        "\n",
        "        for epoch in range(epochs):\n",
        "            # Set gradients to zero\n",
        "            optimizer.zero_grad()\n",
        "\n",
        "            # TODO: forward pass through the model\n",
        "            output = ...\n",
        "\n",
        "            #TODO: Compute loss using (Mean Squared Error)\n",
        "            loss = ...\n",
        "\n",
        "            # Backward pass\n",
        "            loss.backward()\n",
        "\n",
        "            # Update weights\n",
        "            optimizer.step()\n",
        "\n",
        "            losses.append(loss.item())\n",
        "\n",
        "            if (epoch + 1) % 100 == 0:\n",
        "                print(f\"Epoch [{epoch+1}/{epochs}], Loss: {loss.item():.4f}\")\n",
        "        return losses"
      ]
    },
    {
      "cell_type": "markdown",
      "metadata": {
        "id": "eTIJ6sEP8tvY"
      },
      "source": [
        "#### Train the model"
      ]
    },
    {
      "cell_type": "code",
      "execution_count": null,
      "metadata": {
        "id": "rZLppzm78tvY"
      },
      "outputs": [],
      "source": [
        "input_size = 2\n",
        "hidden_size = 4\n",
        "output_size = 1\n",
        "# TODO: Create an instance of the SimpleMLP class\n",
        "model = ...\n",
        "\n",
        "# TODO: Train the model with 1000 epochs and a learning rate of 0.1\n",
        "losses = ..."
      ]
    },
    {
      "cell_type": "markdown",
      "metadata": {
        "id": "QQqxWidf8tvY"
      },
      "source": [
        "#### Evaluate the model"
      ]
    },
    {
      "cell_type": "code",
      "execution_count": null,
      "metadata": {
        "id": "cL7AduQy8tvY"
      },
      "outputs": [],
      "source": [
        "with torch.no_grad():\n",
        "    # TODO: Forward pass on the test set\n",
        "    test_output = model.forward(X_test)\n",
        "    # TODO: Select predicted class labels as the ones with the highest score\n",
        "    test_output = ...\n",
        "# TODO: Compute accuracy (average number of correct predictions)\n",
        "accuracy = ...\n",
        "print(f\"Test Accuracy: {accuracy.item() * 100:.2f}%\")"
      ]
    },
    {
      "cell_type": "markdown",
      "metadata": {
        "id": "BBBG3Li68tvY"
      },
      "source": [
        "# Exercise:\n",
        "- Vary the learning rate between 0.01 and 0.9 and see how it affects the training process.\n",
        "- Change the optimization algorithm to Adam\n",
        "- Change the number of hidden units in the neural networks"
      ]
    }
  ],
  "metadata": {
    "colab": {
      "provenance": []
    },
    "kernelspec": {
      "display_name": "torchenv",
      "language": "python",
      "name": "python3"
    },
    "language_info": {
      "codemirror_mode": {
        "name": "ipython",
        "version": 3
      },
      "file_extension": ".py",
      "mimetype": "text/x-python",
      "name": "python",
      "nbconvert_exporter": "python",
      "pygments_lexer": "ipython3",
      "version": "3.12.7"
    }
  },
  "nbformat": 4,
  "nbformat_minor": 0
}