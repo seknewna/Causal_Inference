{
  "cells": [
    {
      "cell_type": "markdown",
      "metadata": {
        "id": "PghAqz6B6dQz"
      },
      "source": [
        "# Tutorial 1: Introduction to Deep Learning"
      ]
    },
    {
      "cell_type": "code",
      "execution_count": null,
      "metadata": {
        "id": "kulgJH6N59KZ"
      },
      "outputs": [],
      "source": [
        "import torch\n",
        "import matplotlib.pyplot as plt\n",
        "import numpy as np"
      ]
    },
    {
      "cell_type": "markdown",
      "metadata": {
        "id": "8bSriny4-N1p"
      },
      "source": [
        "## Part 1: PyTorch Introduction"
      ]
    },
    {
      "cell_type": "markdown",
      "metadata": {
        "id": "qLZ0SncsidSb"
      },
      "source": [
        "Creating tensors in Pytorch"
      ]
    },
    {
      "cell_type": "code",
      "execution_count": null,
      "metadata": {
        "id": "qXeoRvdF-My3"
      },
      "outputs": [],
      "source": [
        "tensor_a = torch.tensor([1, 2, 3])\n",
        "tensor_b = torch.tensor([[1, 2, 3], [4, 5, 6]])\n",
        "\n",
        "print(\"Tensor a:\", tensor_a)\n",
        "print(\"Tensor a shape:\", tensor_a.shape)\n",
        "print('\\n')\n",
        "print(\"Tensor b:\", tensor_b)\n",
        "print(\"Tensor b shape:\", tensor_b.shape)"
      ]
    },
    {
      "cell_type": "markdown",
      "metadata": {
        "id": "NzM-IpN-idSb"
      },
      "source": [
        "Basic operations"
      ]
    },
    {
      "cell_type": "code",
      "execution_count": null,
      "metadata": {
        "id": "a5rQHhqN06Qi"
      },
      "outputs": [],
      "source": [
        "sum_tensors = tensor_a + tensor_b[0]\n",
        "product_tensors = tensor_a * 2\n",
        "\n",
        "print(\"Sum of tensors:\", sum_tensors)\n",
        "print(\"Tensor multiplied by 2:\", product_tensors)"
      ]
    },
    {
      "cell_type": "markdown",
      "metadata": {
        "id": "2So9qyanidSb"
      },
      "source": [
        "Reshaping tensors"
      ]
    },
    {
      "cell_type": "code",
      "execution_count": null,
      "metadata": {
        "id": "O8tbrcl-HKNV"
      },
      "outputs": [],
      "source": [
        "reshaped_tensor = tensor_b.view(3, 2)   # Equivalent to tensor_b.reshape(3,2)\n",
        "print(\"Reshaped tensor b:\", reshaped_tensor)\n",
        "print(\"Reshaped tensor b shape:\", reshaped_tensor.shape)"
      ]
    },
    {
      "cell_type": "markdown",
      "metadata": {
        "id": "rT5Z2idjidSc"
      },
      "source": [
        "Concatenate tensors"
      ]
    },
    {
      "cell_type": "code",
      "execution_count": null,
      "metadata": {
        "id": "zDAVMFhsHTft"
      },
      "outputs": [],
      "source": [
        "# Concatenating tenso\n",
        "print(\"Tensor a shape:\", tensor_a.shape)\n",
        "print(\"Tensor b shape:\", tensor_b.shape)\n",
        "\n",
        "print(50*'-')\n",
        "\n",
        "try:\n",
        "  torch.cat([tensor_a, tensor_b])\n",
        "except Exception as e:\n",
        "  print(e)\n",
        "\n",
        "print(50*'-')\n",
        "\n"
      ]
    },
    {
      "cell_type": "code",
      "execution_count": null,
      "metadata": {
        "id": "m1zDjBAGidSc"
      },
      "outputs": [],
      "source": [
        "print(\"Tensor A:\", tensor_a)\n",
        "print(tensor_a.unsqueeze(0))\n",
        "tensor_cat = torch.cat([tensor_a.unsqueeze(0), tensor_b], dim=0)\n",
        "print(\"Tensor cat shape:\", tensor_cat.shape)"
      ]
    },
    {
      "cell_type": "markdown",
      "metadata": {
        "id": "kvHA86fnINdD"
      },
      "source": [
        "### Automatic differentiation"
      ]
    },
    {
      "cell_type": "code",
      "execution_count": null,
      "metadata": {
        "id": "rt27c8ZWINNF"
      },
      "outputs": [],
      "source": [
        "x = torch.tensor(2.0, requires_grad=True)\n",
        "def y_func(x):\n",
        "  return x**2 + 3*x + 1 + torch.sin(x**2)\n",
        "\n",
        "y = y_func(x)\n",
        "\n",
        "print('Gradient before backward call:', x.grad)\n",
        "print(50*'-')\n",
        "\n",
        "# Compute gradients\n",
        "y.backward()\n",
        "\n",
        "# Gradient of y with respect to x\n",
        "print(\"dy/dx at x = 2:\", x.grad)\n"
      ]
    },
    {
      "cell_type": "markdown",
      "metadata": {
        "id": "L8tKWR9sidSc"
      },
      "source": [
        "### Exercise:\n",
        "Compute the gradient of the function $f(x) = (x+2y)^2$ at $(x,y) = (1,2)$ using PyTorch."
      ]
    },
    {
      "cell_type": "code",
      "execution_count": null,
      "metadata": {
        "id": "9DKEmpMyidSc"
      },
      "outputs": [],
      "source": []
    },
    {
      "cell_type": "markdown",
      "metadata": {
        "id": "mJUUwEPaidSc"
      },
      "source": [
        "Computing the derivative of a function"
      ]
    },
    {
      "cell_type": "code",
      "execution_count": null,
      "metadata": {
        "id": "z73yEqqO13B3"
      },
      "outputs": [],
      "source": [
        "def y_func(x):\n",
        "  return x**2 + 3*x + 1 + torch.sin(x**2)\n",
        "\n",
        "# Generating a range of values\n",
        "x = torch.linspace(-3, 3, steps=100, requires_grad=True)\n",
        "\n",
        "# Applying the function\n",
        "y = y_func(x)\n",
        "\n",
        "# Prepare to store gradients\n",
        "grads = torch.zeros_like(x)\n",
        "\n",
        "# Calculate gradients for each element in x\n",
        "for i in range(x.size(0)):\n",
        "\n",
        "    # Calculate the function and backpropagate on each element\n",
        "    y[i].backward(retain_graph=True)\n",
        "\n",
        "    # Store the computed gradient\n",
        "    grads[i] = x.grad[i]\n",
        "\n",
        "# Plotting\n",
        "plt.plot(x.detach().numpy(), y.detach().numpy(), label='f(x)')\n",
        "plt.plot(x.detach().numpy(), grads.numpy(), label='df/dx')\n",
        "plt.xlabel('x')\n",
        "plt.ylabel('y / df/dx')\n",
        "plt.legend()\n",
        "plt.grid()\n",
        "plt.title('Function and its Gradient')\n",
        "plt.show()"
      ]
    },
    {
      "cell_type": "markdown",
      "metadata": {
        "id": "-rTNaDEIidSc"
      },
      "source": [
        "### Training a very simple neural network\n",
        "\n",
        "We train a neural network with one linear layer: $x\\mapsto xW + b$ using gradient descent.\n",
        "\n",
        "We want to solve the following optimization problem:\n",
        "$$\\min_{W,b} L([W,b]) = \\min_{W,b}\\sum_{i=1}^N (x_iW+b - y_i)^2$$"
      ]
    },
    {
      "cell_type": "code",
      "execution_count": null,
      "metadata": {
        "id": "FvWpT567INHK"
      },
      "outputs": [],
      "source": [
        "x = torch.tensor([0.2,0.8,0.9,0.3,0.2])                     # input tensor\n",
        "y = torch.tensor([0,1,1,0,0]).to(dtype=torch.float32)       # expected output\n",
        "\n",
        "# Weights and biases b + w^T x\n",
        "w = torch.randn(5, 5, requires_grad=True)\n",
        "b = torch.randn(5, requires_grad=True)\n",
        "learning_rate = 0.1\n",
        "\n",
        "for _ in range(100):\n",
        "\n",
        "  z = relu(torch.matmul(x, w)+b)\n",
        "  loss = torch.norm(y-z)\n",
        "  loss.backward()\n",
        "\n",
        "  with torch.no_grad():\n",
        "    w -= learning_rate * w.grad\n",
        "    b -= learning_rate * b.grad\n",
        "\n",
        "    # Zero gradients after updating\n",
        "    w.grad.zero_()\n",
        "    b.grad.zero_()\n",
        "\n",
        "print(torch.matmul(x, w) +b)\n",
        "print(\"Training error:\", loss.item())"
      ]
    },
    {
      "cell_type": "markdown",
      "metadata": {
        "id": "GzjbqieridSd"
      },
      "source": [
        "### Exercise:\n",
        "Modify the code above to add a ReLU activation function after the linear layer. You can use the `torch.nn.ReLU` class. The ReLU function is defined as:\n",
        "$$\\text{ReLU}(x) = \\max(0,x)$$\n",
        "The network should now be:\n",
        "$$x\\mapsto \\text{ReLU}(xW + b)$$\n",
        "You first need to define the ReLU function as `relu = torch.nn.ReLU()`, and then apply it to the output of the linear layer."
      ]
    },
    {
      "cell_type": "code",
      "execution_count": null,
      "metadata": {
        "id": "BlFjwEQ3idSd"
      },
      "outputs": [],
      "source": []
    },
    {
      "cell_type": "markdown",
      "metadata": {
        "id": "Qn4eXClcidSd"
      },
      "source": [
        "## Part 2: Building a neural network\n",
        "#### Source: https://medium.com/@mn05052002/building-a-simple-mlp-from-scratch-using-pytorch-7d50ca66512b"
      ]
    },
    {
      "cell_type": "markdown",
      "metadata": {
        "id": "iXCHyKaHidSd"
      },
      "source": [
        "#### Importing libraries"
      ]
    },
    {
      "cell_type": "code",
      "execution_count": null,
      "metadata": {
        "id": "iCLn_l_MidSd"
      },
      "outputs": [],
      "source": [
        "from sklearn.datasets import make_moons\n",
        "from sklearn.model_selection import train_test_split\n",
        "from sklearn.preprocessing import StandardScaler"
      ]
    },
    {
      "cell_type": "markdown",
      "metadata": {
        "id": "IOmzk5rOidSd"
      },
      "source": [
        "#### Generate the dataset"
      ]
    },
    {
      "cell_type": "code",
      "execution_count": null,
      "metadata": {
        "id": "UjakSCylidSd"
      },
      "outputs": [],
      "source": [
        "X, y = make_moons(n_samples=1000, noise=0.2, random_state=42)\n",
        "\n",
        "# TODO: Split the dataset into 80% training and 20% testing sets\n",
        "# hint: Use the train_test_split function from sklearn.model_selection\n",
        "X_train, X_test, y_train, y_test = train_test_split(X, y, test_size=0.2, random_state=42)\n",
        "\n",
        "# Standardize the data\n",
        "scaler = StandardScaler()\n",
        "X_train = scaler.fit_transform(X_train)\n",
        "X_test = scaler.transform(X_test)\n",
        "\n",
        "# Convert to PyTorch tensors\n",
        "X_train = torch.tensor(X_train, dtype=torch.float32)\n",
        "y_train = torch.tensor(y_train, dtype=torch.float32).reshape(-1, 1)\n",
        "X_test = torch.tensor(X_test, dtype=torch.float32)\n",
        "y_test = torch.tensor(y_test, dtype=torch.float32).reshape(-1, 1)"
      ]
    },
    {
      "cell_type": "markdown",
      "metadata": {
        "id": "DF0LKzBKidSd"
      },
      "source": [
        "#### Visualize the dataset"
      ]
    },
    {
      "cell_type": "code",
      "execution_count": null,
      "metadata": {
        "id": "0_0ZYlrBidSd"
      },
      "outputs": [],
      "source": [
        "plt.scatter(X[:,0], X[:,1], c=y)"
      ]
    },
    {
      "cell_type": "markdown",
      "metadata": {
        "id": "jDsRonQOidSd"
      },
      "source": [
        "#### Create the model\n",
        "The model should be a simple feedforward neural network with one hidden layer, that computes\n",
        "$\\begin{align}\n",
        "y = \\sigma(\\sigma(x W_1 + b_1)W_2 + b_2)\n",
        "\\end{align}\n",
        "$\n",
        "where $\\sigma$ is the sigmoid activation function, $W_1$ and $W_2$ are the weights of the first and second layer respectively, and $b_1$ and $b_2$ are the biases of the first and second layer respectively."
      ]
    },
    {
      "cell_type": "code",
      "execution_count": null,
      "metadata": {
        "id": "CPow6TQMidSd"
      },
      "outputs": [],
      "source": [
        "class SimpleMLP(torch.nn.Module):\n",
        "    def __init__(self, input_size, hidden_size, output_size):\n",
        "        super(SimpleMLP, self).__init__()\n",
        "        self.W1 = torch.nn.Parameter(torch.randn(input_size, hidden_size))\n",
        "        self.b1 = torch.nn.Parameter(torch.randn(1, hidden_size))\n",
        "        self.W2 = torch.nn.Parameter(torch.randn(hidden_size, output_size))\n",
        "        self.b2 = torch.nn.Parameter(torch.randn(1, output_size))\n",
        "\n",
        "    def forward(self, X):\n",
        "        # TODO: Implement the forward pass\n",
        "        self.z1 = torch.matmul(X, self.W1) + self.b1\n",
        "        self.a1 = torch.sigmoid(self.z1)  # Hidden layer activation\n",
        "        self.z2 = torch.matmul(self.a1, self.W2) + self.b2\n",
        "        self.z = torch.sigmoid(self.z2)  # Output layer activation\n",
        "        return self.z"
      ]
    },
    {
      "cell_type": "code",
      "execution_count": null,
      "metadata": {
        "id": "YtYS7q-sidSd"
      },
      "outputs": [],
      "source": [
        "def train(model, X, y, epochs=1000, lr=0.01):\n",
        "        losses = []\n",
        "\n",
        "        # Initialize the optimizer\n",
        "        optimizer = torch.optim.SGD(model.parameters(), lr=lr)\n",
        "\n",
        "        for epoch in range(epochs):\n",
        "            # Set gradients to zero\n",
        "            optimizer.zero_grad()\n",
        "\n",
        "            # TODO: forward pass through the model\n",
        "            output = model(X)\n",
        "\n",
        "            #TODO: Compute loss using (Mean Squared Error)\n",
        "            loss = torch.mean((output - y) ** 2)\n",
        "\n",
        "            # Backward pass\n",
        "            loss.backward()\n",
        "\n",
        "            # Update weights\n",
        "            optimizer.step()\n",
        "\n",
        "            losses.append(loss.item())\n",
        "\n",
        "            if (epoch + 1) % 100 == 0:\n",
        "                print(f\"Epoch [{epoch+1}/{epochs}], Loss: {loss.item():.4f}\")\n",
        "        return losses"
      ]
    },
    {
      "cell_type": "markdown",
      "metadata": {
        "id": "BrVUzFjEidSd"
      },
      "source": [
        "#### Train the model"
      ]
    },
    {
      "cell_type": "code",
      "execution_count": null,
      "metadata": {
        "id": "Vl7AWFXlidSd"
      },
      "outputs": [],
      "source": [
        "input_size = 2\n",
        "hidden_size = 4\n",
        "output_size = 1\n",
        "# TODO: Create an instance of the SimpleMLP class\n",
        "model = SimpleMLP(input_size, hidden_size, output_size)\n",
        "\n",
        "#Train  model and store the losses\n",
        "losses = train(model, X_train, y_train, epochs=1000, lr=0.1)"
      ]
    },
    {
      "cell_type": "markdown",
      "metadata": {
        "id": "2cxWW2HnidSd"
      },
      "source": [
        "#### Evaluate the model"
      ]
    },
    {
      "cell_type": "code",
      "execution_count": null,
      "metadata": {
        "id": "jILKMyBIidSd"
      },
      "outputs": [],
      "source": [
        "with torch.no_grad():\n",
        "    test_output = model.forward(X_test)\n",
        "    test_output = (test_output > 0.5).float()\n",
        "accuracy = torch.mean((test_output == y_test).float())\n",
        "print(f\"Test Accuracy: {accuracy.item() * 100:.2f}%\")"
      ]
    },
    {
      "cell_type": "markdown",
      "metadata": {
        "id": "RtmHltX2idSd"
      },
      "source": [
        "# Exercise:\n",
        "- Vary the learning rate between 0.01 and 0.9 and see how it affects the training process.\n",
        "- Change the optimization algorithm to Adam: `torch.optim.Adam(model.parameters(), lr=0.001)`\n",
        "- Change the number of hidden units in the neural networks"
      ]
    }
  ],
  "metadata": {
    "colab": {
      "provenance": []
    },
    "kernelspec": {
      "display_name": "torchenv",
      "language": "python",
      "name": "python3"
    },
    "language_info": {
      "codemirror_mode": {
        "name": "ipython",
        "version": 3
      },
      "file_extension": ".py",
      "mimetype": "text/x-python",
      "name": "python",
      "nbconvert_exporter": "python",
      "pygments_lexer": "ipython3",
      "version": "3.12.7"
    }
  },
  "nbformat": 4,
  "nbformat_minor": 0
}