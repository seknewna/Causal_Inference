{
  "cells": [
    {
      "cell_type": "markdown",
      "metadata": {
        "id": "view-in-github",
        "colab_type": "text"
      },
      "source": [
        "<a href=\"https://colab.research.google.com/github/seknewna/Causal_Inference/blob/master/13_adjoint_calculations.ipynb\" target=\"_parent\"><img src=\"https://colab.research.google.com/assets/colab-badge.svg\" alt=\"Open In Colab\"/></a>"
      ]
    },
    {
      "cell_type": "code",
      "execution_count": null,
      "id": "c1993e37",
      "metadata": {
        "id": "c1993e37"
      },
      "outputs": [],
      "source": [
        "try:\n",
        "    import firedrake\n",
        "except ImportError:\n",
        "    !wget \"https://fem-on-colab.github.io/releases/firedrake-install-release-real.sh\" -O \"/tmp/firedrake-install.sh\" && bash \"/tmp/firedrake-install.sh\"\n",
        "    import firedrake"
      ]
    },
    {
      "cell_type": "markdown",
      "id": "e7b5808f-f0ae-4e40-bcca-eff67f251fc9",
      "metadata": {
        "id": "e7b5808f-f0ae-4e40-bcca-eff67f251fc9"
      },
      "source": [
        "# Solving adjoint problems\n",
        "\n",
        "Firedrake has built-in capabilities for differentiating the solution of a PDE with respect to any of its inputs. These are documented in [the manual](https://www.firedrakeproject.org/adjoint.html). Here we will explore these capabilities using a the same Burgers equation example that we already explored when we learned how to solve nonlinear problems. As before, we will define the equation in one spatial dimension and avoid considering boundary conditions by selecting a periodic domain:\n",
        "\n",
        "$$\n",
        "\\frac{\\partial u}{\\partial t} + u \\frac{\\partial u}{\\partial x} - \\nu \\frac{\\partial^2 u}{\\partial x^2} = 0.\n",
        "$$\n",
        "\n",
        "Applying finite element in time and implicit Euler in space, the problem becomes at each timestep find $u^{n+1}\\in V$ such that:\n",
        "\n",
        "$$\n",
        "\\int_\\Omega \\frac{u^{n+1} - u^n}{\\Delta t} v + u^{n+1} \\frac{\\partial u^{n+1}}{\\partial x} v + \\nu \\frac{\\partial u^{n+1}}{\\partial x}\\frac{\\partial v}{\\partial x} \\, \\mathrm{d}x = 0 \\quad \\forall v \\in V.\n",
        "$$\n",
        "\n",
        "As usual, we start by setting up plotting:"
      ]
    },
    {
      "cell_type": "code",
      "execution_count": null,
      "id": "11709a56-6feb-4cac-9a98-3327e8c65a56",
      "metadata": {
        "id": "11709a56-6feb-4cac-9a98-3327e8c65a56"
      },
      "outputs": [],
      "source": [
        "# Code in this cell makes plots appear an appropriate size and resolution in the browser window\n",
        "%config InlineBackend.figure_format = 'svg'\n",
        "\n",
        "import matplotlib.pyplot as plt\n",
        "\n",
        "plt.rcParams['figure.figsize'] = (11, 6)"
      ]
    },
    {
      "cell_type": "markdown",
      "id": "e46e290c-1b65-42c5-8f73-686331d28fdc",
      "metadata": {
        "id": "e46e290c-1b65-42c5-8f73-686331d28fdc"
      },
      "source": [
        "... and importing Firedrake:"
      ]
    },
    {
      "cell_type": "code",
      "execution_count": null,
      "id": "efa08a55-d8f3-422c-9e52-789fcacd2cbe",
      "metadata": {
        "id": "efa08a55-d8f3-422c-9e52-789fcacd2cbe"
      },
      "outputs": [],
      "source": [
        "from firedrake import *\n",
        "from firedrake.__future__ import interpolate"
      ]
    },
    {
      "cell_type": "markdown",
      "id": "8047d692-358e-4f52-b678-505ec3e65533",
      "metadata": {
        "id": "8047d692-358e-4f52-b678-505ec3e65533"
      },
      "source": [
        "This is where the code is slightly different because we're solving an adjoint problem. Firedrake uses [pyadjoint](https://pyadjoint.org) to deliver its adjoint capability, but the relevant parts of the Pyadjoint interface are exposed via the `firedrake.adjoint` module."
      ]
    },
    {
      "cell_type": "code",
      "execution_count": null,
      "id": "24e4fc04-bc5a-4f57-a80d-da3fb6be1677",
      "metadata": {
        "id": "24e4fc04-bc5a-4f57-a80d-da3fb6be1677"
      },
      "outputs": [],
      "source": [
        "from firedrake.adjoint import *"
      ]
    },
    {
      "cell_type": "markdown",
      "id": "a9cd6fc6-1d30-4eb7-8232-9b0014dd7b2a",
      "metadata": {
        "id": "a9cd6fc6-1d30-4eb7-8232-9b0014dd7b2a"
      },
      "source": [
        "Executing the adjoint problem depends on having recorded all of the operations on which the results of the PDE depend. We switch on the recording thus:"
      ]
    },
    {
      "cell_type": "code",
      "execution_count": null,
      "id": "ae90fb73-f2dd-4026-880d-59b37f086c73",
      "metadata": {
        "id": "ae90fb73-f2dd-4026-880d-59b37f086c73"
      },
      "outputs": [],
      "source": [
        "continue_annotation()"
      ]
    },
    {
      "cell_type": "markdown",
      "id": "2725a8f3-c7b1-480e-92d2-71a605f40d84",
      "metadata": {
        "id": "2725a8f3-c7b1-480e-92d2-71a605f40d84"
      },
      "source": [
        "We next define the mesh, initial conditions and residual for the Burgers equation as we have done in previous notebooks."
      ]
    },
    {
      "cell_type": "code",
      "execution_count": null,
      "id": "d8e381b1-8d8e-4960-b04e-3b5f6edee6ba",
      "metadata": {
        "id": "d8e381b1-8d8e-4960-b04e-3b5f6edee6ba"
      },
      "outputs": [],
      "source": [
        "n = 100\n",
        "with stop_annotating():\n",
        "    mesh = PeriodicIntervalMesh(n, length=2)\n",
        "x = SpatialCoordinate(mesh)[0]\n",
        "nu = Constant(1e-2)\n",
        "V = FunctionSpace(mesh, \"Lagrange\", 2)\n",
        "u_n1 = Function(V, name=\"u^{n+1}\")\n",
        "u_n = Function(V, name=\"u^{n}\")\n",
        "v = TestFunction(V)\n",
        "u_init = Function(V).interpolate(sin(2*pi*x))\n",
        "u_n.assign(u_init)\n",
        "dt = 1.0 / n\n",
        "F = (((u_n1 - u_n)/dt) * v +\n",
        "     u_n1 * u_n1.dx(0) * v +\n",
        "     nu*u_n1.dx(0)*v.dx(0))*dx"
      ]
    },
    {
      "cell_type": "markdown",
      "id": "1f9cb135-762c-428f-ad43-78c5d80fa348",
      "metadata": {
        "id": "1f9cb135-762c-428f-ad43-78c5d80fa348"
      },
      "source": [
        "Now we timestep the equations as usual:"
      ]
    },
    {
      "cell_type": "code",
      "execution_count": null,
      "id": "725c7b79-29d5-482e-b606-761f7ec04f9f",
      "metadata": {
        "id": "725c7b79-29d5-482e-b606-761f7ec04f9f"
      },
      "outputs": [],
      "source": [
        "problem = NonlinearVariationalProblem(F, u_n1)\n",
        "solver = NonlinearVariationalSolver(problem)\n",
        "results = [Function(u_n)]\n",
        "timesteps = 50\n",
        "for t in ProgressBar(\"Time step\").iter(range(timesteps)):\n",
        "    solver.solve()\n",
        "    u_n.assign(u_n1)\n",
        "    results.append(Function(u_n))"
      ]
    },
    {
      "cell_type": "markdown",
      "id": "37638133-5468-421c-b663-7b2f7d7128cd",
      "metadata": {
        "id": "37638133-5468-421c-b663-7b2f7d7128cd"
      },
      "source": [
        "The basic form of adjoint computiation computes the derivative of a scalar outcome of a PDE with respect to one or more inputs. Here we'd just like to see how the solution of the PDE at the end of the time interval depends on the initial conditions, so we choose the squared $L^2$ norm of the final solution as our functional:"
      ]
    },
    {
      "cell_type": "code",
      "execution_count": null,
      "id": "ee93684f-cb5e-4867-b36b-22084c6ca73e",
      "metadata": {
        "id": "ee93684f-cb5e-4867-b36b-22084c6ca73e"
      },
      "outputs": [],
      "source": [
        "J = assemble(u_n*u_n*dx)"
      ]
    },
    {
      "cell_type": "markdown",
      "id": "f894db4d-af9f-429c-a3d7-c317a2ba78dc",
      "metadata": {
        "id": "f894db4d-af9f-429c-a3d7-c317a2ba78dc"
      },
      "source": [
        "We've now completed the forward solution. We want to stop recording so that any computations we do on the results aren't part of the tape:"
      ]
    },
    {
      "cell_type": "code",
      "execution_count": null,
      "id": "dbed6910-f7d6-4cc0-8e03-0dc1a4bfd068",
      "metadata": {
        "id": "dbed6910-f7d6-4cc0-8e03-0dc1a4bfd068"
      },
      "outputs": [],
      "source": [
        "pause_annotation()"
      ]
    },
    {
      "cell_type": "markdown",
      "id": "bc7cdd0d-3df2-4265-9568-e22cdc039ea5",
      "metadata": {
        "id": "bc7cdd0d-3df2-4265-9568-e22cdc039ea5"
      },
      "source": [
        "Just as with the forward calculation, it's helpful to have a visualisation of the execution of the model. However, the adjoint calculations will be executed automatically, so we can't directly attach a progress bar. Instead, we pass a progress bar class to the tape and let it apply it automatically:"
      ]
    },
    {
      "cell_type": "code",
      "execution_count": null,
      "id": "3ea75d66-9c55-4f22-9db2-7a13c8e41148",
      "metadata": {
        "id": "3ea75d66-9c55-4f22-9db2-7a13c8e41148"
      },
      "outputs": [],
      "source": [
        "get_working_tape().progress_bar = ProgressBar\n"
      ]
    },
    {
      "cell_type": "markdown",
      "id": "7f67d11c-5a84-4cb5-a365-d98a3e849027",
      "metadata": {
        "id": "7f67d11c-5a84-4cb5-a365-d98a3e849027"
      },
      "source": [
        "We select the initial conditions of the simulation as the control. The way we achieve this in code is by defining a [`ReducedFunctional`](https://www.firedrakeproject.org/adjoint.html#reduced-functionals) with the initial conditions as the [`Control`](https://pyadjoint.org/documentation/pyadjoint_api.html#pyadjoint.Control):"
      ]
    },
    {
      "cell_type": "code",
      "execution_count": null,
      "id": "7807c438-6175-4789-9624-52307943011e",
      "metadata": {
        "id": "7807c438-6175-4789-9624-52307943011e"
      },
      "outputs": [],
      "source": [
        "Jhat = ReducedFunctional(J, Control(u_init))"
      ]
    },
    {
      "cell_type": "markdown",
      "id": "229b7676-d483-47fa-9a45-0f7aa3b1ebd0",
      "metadata": {
        "id": "229b7676-d483-47fa-9a45-0f7aa3b1ebd0"
      },
      "source": [
        "The reduced functional is the core object in any adjoint calculation. For example, we can compute the derivative of a ReducedFunctional as follows. Notice the progress bar. It has 154 entries in it in contrast to the 50 timesteps. This is because the adjoint calculation records and replays individual Firedrake operations such as `solve` and `assign` rather than whole timesteps."
      ]
    },
    {
      "cell_type": "code",
      "execution_count": null,
      "id": "43496003-814b-49d4-91e8-ce38a335e60f",
      "metadata": {
        "id": "43496003-814b-49d4-91e8-ce38a335e60f"
      },
      "outputs": [],
      "source": [
        "dJ = Jhat.derivative()"
      ]
    },
    {
      "cell_type": "markdown",
      "id": "00b6b619-14fa-47e7-96b4-f7cce2de1559",
      "metadata": {
        "id": "00b6b619-14fa-47e7-96b4-f7cce2de1559"
      },
      "source": [
        "Let's look at the derivative we've calculated. Can you intuitively work out why this is the right derivative?"
      ]
    },
    {
      "cell_type": "code",
      "execution_count": null,
      "id": "cdc905b6-48bc-43e6-89c5-18bac8ea7e1d",
      "metadata": {
        "id": "cdc905b6-48bc-43e6-89c5-18bac8ea7e1d"
      },
      "outputs": [],
      "source": [
        "# NBVAL_IGNORE_OUTPUT\n",
        "from firedrake.pyplot import plot\n",
        "\n",
        "fig, axes = plt.subplots()\n",
        "\n",
        "paths=plot(dJ, axes=axes)"
      ]
    },
    {
      "cell_type": "markdown",
      "id": "3bedff1a-68b6-4bf1-b4d1-d7da00e6be07",
      "metadata": {
        "id": "3bedff1a-68b6-4bf1-b4d1-d7da00e6be07"
      },
      "source": [
        "## Exercise 1\n",
        "\n",
        "The reduced functional defines a function:\n",
        "\n",
        "$$\n",
        "\\hat{J}(m) = J(u(m), m)\n",
        "$$\n",
        "\n",
        "Where $m$ is the control. As well as differentiating the functional, it's possible to evaluate it for a new intial condition. This is achieved by calling the reduced functional:\n",
        "\n",
        "```python3\n",
        "Jhat(u_new)\n",
        "```\n",
        "\n",
        "### a.\n",
        "Try evaluating `Jhat` for a new initial condition. You'll still need to use a periodic funcition, but you could change the frequency of the wave, or try a more adventurous but still periodic function.\n",
        "\n",
        "### b.\n",
        "You can access the solution of the last solve in the reduced functional with `get_solve_blocks()[-1].get_outputs()[0].saved_output`. See how the solution changes for different values of the initial condition.\n",
        "\n",
        "### c.\n",
        "The gradient returned by `Jhat.derivative()` is linearised around the solution for the last state at which the reduced functional was evaluated. Plot the gradient for different initial conditions and see if you can intuit why it looks like it does.\n"
      ]
    },
    {
      "cell_type": "code",
      "execution_count": null,
      "id": "24821568-b9b3-4c26-a8c9-3dc948a42cc1",
      "metadata": {
        "id": "24821568-b9b3-4c26-a8c9-3dc948a42cc1"
      },
      "outputs": [],
      "source": []
    },
    {
      "cell_type": "code",
      "execution_count": null,
      "id": "679e0876-e9fc-4af5-9154-bd931dea324d",
      "metadata": {
        "id": "679e0876-e9fc-4af5-9154-bd931dea324d"
      },
      "outputs": [],
      "source": []
    },
    {
      "cell_type": "markdown",
      "id": "48a49a11-626e-457e-9c85-7d8824566b52",
      "metadata": {
        "id": "48a49a11-626e-457e-9c85-7d8824566b52"
      },
      "source": [
        "## Taylor tests\n",
        "\n",
        "How do we know that the gradient we have calculated above is correct? The [Taylor test](https://www.firedrakeproject.org/adjoint.html#taylor-tests) provides us a very sensitive test of this. Almost any error in the computation of the gradient will cause its convergence rate to drop below 2. We evaluate the Taylor test at our original functional and with a perturbation of a constant function:"
      ]
    },
    {
      "cell_type": "code",
      "execution_count": null,
      "id": "f20c41ff-de35-4cc0-b8cd-3598b4d7ebf1",
      "metadata": {
        "id": "f20c41ff-de35-4cc0-b8cd-3598b4d7ebf1"
      },
      "outputs": [],
      "source": [
        "taylor_test(Jhat, u_init, assemble(interpolate(Constant(1.), V)))"
      ]
    },
    {
      "cell_type": "markdown",
      "id": "f27e3478-3ef4-41af-bb3a-ae9ae58f05eb",
      "metadata": {
        "id": "f27e3478-3ef4-41af-bb3a-ae9ae58f05eb"
      },
      "source": [
        "## Examining the adjoint calculation\n",
        "\n",
        "When we first studied the Burgers equation we plotted an animation of the solution over time. As a reminder:"
      ]
    },
    {
      "cell_type": "code",
      "execution_count": null,
      "id": "ffc4579b-f1d0-45bf-972c-7ad9ff2ad0f9",
      "metadata": {
        "id": "ffc4579b-f1d0-45bf-972c-7ad9ff2ad0f9"
      },
      "outputs": [],
      "source": [
        "# NBVAL_IGNORE_OUTPUT\n",
        "from firedrake.pyplot import plot\n",
        "from matplotlib.animation import FuncAnimation\n",
        "\n",
        "fig, axes = plt.subplots()\n",
        "\n",
        "def animate(u):\n",
        "    axes.clear()\n",
        "    plot(u, axes=axes)\n",
        "    axes.set_ylim((-1., 1.))\n",
        "\n",
        "interval = 4e3 * float(dt)\n",
        "animation = FuncAnimation(fig, animate, frames=results, interval=interval)\n",
        "\n",
        "from IPython.display import HTML\n",
        "HTML(animation.to_jshtml())"
      ]
    },
    {
      "cell_type": "markdown",
      "id": "1b7e37e9-5b11-4ae7-b5cd-e2cd9b4ba69a",
      "metadata": {
        "id": "1b7e37e9-5b11-4ae7-b5cd-e2cd9b4ba69a"
      },
      "source": [
        "In order to understand how the adjoint solution works, it's helpful to do the same for the adjoint. We can extract the adjoint solutions to the PDE for each timestep as follows:"
      ]
    },
    {
      "cell_type": "code",
      "execution_count": null,
      "id": "23fe145a-df41-4362-b24f-54199baa8299",
      "metadata": {
        "id": "23fe145a-df41-4362-b24f-54199baa8299"
      },
      "outputs": [],
      "source": [
        "adjoints = [block.get_dependencies()[0].adj_value for block in get_solve_blocks()[::-1]]"
      ]
    },
    {
      "cell_type": "markdown",
      "id": "748827e1-4b50-4411-bab1-c32179051faf",
      "metadata": {
        "id": "748827e1-4b50-4411-bab1-c32179051faf"
      },
      "source": [
        "We deliberately extracted the blocks in reverse order because the adjoint is solved in reverse order. The adjoint value of the control is the last solve value in the sequence so we add that:"
      ]
    },
    {
      "cell_type": "code",
      "execution_count": null,
      "id": "a2cfd7de-6956-488f-a387-c83af6cb54a8",
      "metadata": {
        "id": "a2cfd7de-6956-488f-a387-c83af6cb54a8"
      },
      "outputs": [],
      "source": [
        "adjoints += [Jhat.controls[0].adj_value]"
      ]
    },
    {
      "cell_type": "markdown",
      "id": "8e265b61-cf41-4014-8a56-ca99eac81328",
      "metadata": {
        "id": "8e265b61-cf41-4014-8a56-ca99eac81328"
      },
      "source": [
        "Now, if we take a look at those variables..."
      ]
    },
    {
      "cell_type": "code",
      "execution_count": null,
      "id": "2a092582-a161-45f7-8ff5-e334e67ec80f",
      "metadata": {
        "id": "2a092582-a161-45f7-8ff5-e334e67ec80f"
      },
      "outputs": [],
      "source": [
        "adjoints"
      ]
    },
    {
      "cell_type": "markdown",
      "id": "f14c44b4-810c-4ac9-9f57-c1358172fad8",
      "metadata": {
        "id": "f14c44b4-810c-4ac9-9f57-c1358172fad8"
      },
      "source": [
        "The adjoint variables are, as expected, cofunctions. To recover the adjoint solutions in a form we can visualise, we take the Riesz represntation to recover Functions:"
      ]
    },
    {
      "cell_type": "code",
      "execution_count": null,
      "id": "c76e7526-d1b8-4040-ba0a-3a7b4673a5f1",
      "metadata": {
        "id": "c76e7526-d1b8-4040-ba0a-3a7b4673a5f1"
      },
      "outputs": [],
      "source": [
        "adjoints = [a.riesz_representation(riesz_map=\"L2\") for a in adjoints if a]"
      ]
    },
    {
      "cell_type": "markdown",
      "id": "5327cf8c-fe20-4022-a42f-d5bb0b6cac9e",
      "metadata": {
        "id": "5327cf8c-fe20-4022-a42f-d5bb0b6cac9e"
      },
      "source": [
        "Now we can visualise the adjoint solution:"
      ]
    },
    {
      "cell_type": "code",
      "execution_count": null,
      "id": "0f3723f8-8df1-4095-a6bc-f2bd1589380e",
      "metadata": {
        "id": "0f3723f8-8df1-4095-a6bc-f2bd1589380e"
      },
      "outputs": [],
      "source": [
        "fig, axes = plt.subplots()\n",
        "\n",
        "def animate(u):\n",
        "    axes.clear()\n",
        "    plot(u, axes=axes)\n",
        "    axes.set_ylim((-2.5, 2.5))\n",
        "\n",
        "interval = 4e3 * float(dt)\n",
        "animation = FuncAnimation(fig, animate, frames=adjoints, interval=interval)\n",
        "\n",
        "from IPython.display import HTML\n",
        "HTML(animation.to_jshtml())"
      ]
    },
    {
      "cell_type": "markdown",
      "id": "405540f6-367e-4f2d-be39-46b88d35cd35",
      "metadata": {
        "id": "405540f6-367e-4f2d-be39-46b88d35cd35"
      },
      "source": [
        "## Exercise 2\n",
        "\n",
        "Go back to the Poisson equation example, and solve Poisson's equation with Dirichlet boundary conditions. Find $u$ such that:\n",
        "$$\n",
        "\\begin{gather*}\n",
        "-\\nabla^2 u = f \\qquad x\\in \\Omega\\\\\n",
        "u = 0 \\qquad x \\in \\Gamma\n",
        "\\end{gather*}\n",
        "$$\n",
        "Choose a suitable forcing function $f$ and evaluate the functional:\n",
        "$$\n",
        "J = \\int_\\Omega u^2 + f^2\\,\\mathrm{d}x\n",
        "$$\n",
        "Create a reduced functional and conduct a Taylor test in order to establish that your implementation is correct.\n",
        "Before you start, you will need to remove the recording of the Burgers equation from the tape:"
      ]
    },
    {
      "cell_type": "code",
      "execution_count": null,
      "id": "17eabff0-9f62-4861-a701-a059626e251b",
      "metadata": {
        "id": "17eabff0-9f62-4861-a701-a059626e251b"
      },
      "outputs": [],
      "source": [
        "get_working_tape().clear_tape()\n",
        "continue_annotation()"
      ]
    },
    {
      "cell_type": "code",
      "execution_count": null,
      "id": "6ff6d0fa-49ef-4ccc-989c-071da4d3c451",
      "metadata": {
        "id": "6ff6d0fa-49ef-4ccc-989c-071da4d3c451"
      },
      "outputs": [],
      "source": []
    },
    {
      "cell_type": "code",
      "execution_count": null,
      "id": "50169141-e31c-4b1d-a951-1bb2c89567ef",
      "metadata": {
        "id": "50169141-e31c-4b1d-a951-1bb2c89567ef"
      },
      "outputs": [],
      "source": []
    },
    {
      "cell_type": "markdown",
      "id": "ce79c50c-133e-4014-9d13-8e95bbf7fa9d",
      "metadata": {
        "id": "ce79c50c-133e-4014-9d13-8e95bbf7fa9d"
      },
      "source": [
        "## Visualising the tape\n",
        "\n",
        "An exceptionally useful aid to understanding the computation of the adjoint is to produce a visual representation of the tape. To produce a managable sized figure, we'll rerun the Burgers equation with just 5 timesteps:"
      ]
    },
    {
      "cell_type": "code",
      "execution_count": null,
      "id": "9c1d602e-d5f0-4f34-a08f-8cb4fa959a02",
      "metadata": {
        "id": "9c1d602e-d5f0-4f34-a08f-8cb4fa959a02"
      },
      "outputs": [],
      "source": [
        "tape=get_working_tape()\n",
        "continue_annotation()\n",
        "tape.clear_tape()\n",
        "u_n.assign(u_init)\n",
        "timesteps = 5\n",
        "for t in ProgressBar(\"Time step\").iter(range(timesteps)):\n",
        "    solver.solve()\n",
        "    u_n.assign(u_n1)\n",
        "J = assemble(u_n*u_n*dx)\n",
        "pause_annotation()"
      ]
    },
    {
      "cell_type": "markdown",
      "id": "d0aafb5e-3f62-4b39-bc51-a9aabca49c01",
      "metadata": {
        "id": "d0aafb5e-3f62-4b39-bc51-a9aabca49c01"
      },
      "source": [
        "We now need to install a few packages that Colab don't install automatically:"
      ]
    },
    {
      "cell_type": "code",
      "execution_count": null,
      "id": "7c1833ed-c09b-41a4-aff5-94c44989d1d8",
      "metadata": {
        "id": "7c1833ed-c09b-41a4-aff5-94c44989d1d8"
      },
      "outputs": [],
      "source": [
        "!apt update\n",
        "!apt install graphviz libgraphviz-dev poppler-utils fonts-dejavu"
      ]
    },
    {
      "cell_type": "code",
      "execution_count": null,
      "id": "78e43809-5941-4ffd-a52d-c0ebe6dfb465",
      "metadata": {
        "scrolled": true,
        "id": "78e43809-5941-4ffd-a52d-c0ebe6dfb465"
      },
      "outputs": [],
      "source": [
        "!pip install pygraphviz pdf2image"
      ]
    },
    {
      "cell_type": "code",
      "execution_count": null,
      "id": "31926022-2d1a-4726-a12a-0ea78f7a0538",
      "metadata": {
        "id": "31926022-2d1a-4726-a12a-0ea78f7a0538"
      },
      "outputs": [],
      "source": [
        "tape.visualise(\"tape.pdf\")"
      ]
    },
    {
      "cell_type": "code",
      "execution_count": null,
      "id": "a722ed53-7931-478f-a718-41c6a61f0810",
      "metadata": {
        "id": "a722ed53-7931-478f-a718-41c6a61f0810"
      },
      "outputs": [],
      "source": [
        "from pdf2image import convert_from_path\n",
        "\n",
        "images = convert_from_path(\"tape.pdf\")\n",
        "images[0]  # first page"
      ]
    },
    {
      "cell_type": "code",
      "execution_count": null,
      "id": "7f581a32-8a82-4588-aa4a-fb1f689ab381",
      "metadata": {
        "id": "7f581a32-8a82-4588-aa4a-fb1f689ab381"
      },
      "outputs": [],
      "source": [
        "\n"
      ]
    },
    {
      "cell_type": "code",
      "execution_count": null,
      "id": "5ac64346-bd72-4a1c-ac0c-21ec13cbf4ae",
      "metadata": {
        "id": "5ac64346-bd72-4a1c-ac0c-21ec13cbf4ae"
      },
      "outputs": [],
      "source": []
    }
  ],
  "metadata": {
    "kernelspec": {
      "display_name": "Python 3 (ipykernel)",
      "language": "python",
      "name": "python3"
    },
    "language_info": {
      "codemirror_mode": {
        "name": "ipython",
        "version": 3
      },
      "file_extension": ".py",
      "mimetype": "text/x-python",
      "name": "python",
      "nbconvert_exporter": "python",
      "pygments_lexer": "ipython3",
      "version": "3.13.1"
    },
    "colab": {
      "provenance": [],
      "include_colab_link": true
    }
  },
  "nbformat": 4,
  "nbformat_minor": 5
}